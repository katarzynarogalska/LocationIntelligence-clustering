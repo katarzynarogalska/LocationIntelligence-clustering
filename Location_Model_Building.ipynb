{
 "cells": [
  {
   "cell_type": "code",
   "execution_count": 1,
   "metadata": {},
   "outputs": [],
   "source": [
    "import pandas as pd\n",
    "from sklearn.pipeline import Pipeline\n",
    "import sys\n",
    "import os\n",
    "sys.path.insert(0, os.path.abspath(os.path.join(\".\", \"transformers\")))\n",
    "from preprocessing_part_2 import * \n",
    "from column_selectors import *\n",
    "import warnings\n",
    "warnings.filterwarnings('ignore')\n",
    "from sklearn.decomposition import PCA\n",
    "import seaborn as sns\n",
    "import matplotlib.pyplot as plt\n",
    "import numpy as np\n",
    "from sklearn.cluster import KMeans\n",
    "from sklearn.model_selection import GridSearchCV"
   ]
  },
  {
   "cell_type": "code",
   "execution_count": 2,
   "metadata": {},
   "outputs": [],
   "source": [
    "new_train_df = pd.read_csv('dataframes/train_geo_clustered.csv')\n",
    "new_val_df = pd.read_csv('dataframes/val_geo_clustered.csv')"
   ]
  },
  {
   "cell_type": "markdown",
   "metadata": {},
   "source": [
    "*This dataframe is already split into train,val,test in Feature Engineering file and saved to csv*"
   ]
  },
  {
   "cell_type": "code",
   "execution_count": 3,
   "metadata": {},
   "outputs": [
    {
     "data": {
      "text/html": [
       "<div>\n",
       "<style scoped>\n",
       "    .dataframe tbody tr th:only-of-type {\n",
       "        vertical-align: middle;\n",
       "    }\n",
       "\n",
       "    .dataframe tbody tr th {\n",
       "        vertical-align: top;\n",
       "    }\n",
       "\n",
       "    .dataframe thead th {\n",
       "        text-align: right;\n",
       "    }\n",
       "</style>\n",
       "<table border=\"1\" class=\"dataframe\">\n",
       "  <thead>\n",
       "    <tr style=\"text-align: right;\">\n",
       "      <th></th>\n",
       "      <th>name</th>\n",
       "      <th>latitude</th>\n",
       "      <th>longitude</th>\n",
       "      <th>review_count</th>\n",
       "      <th>rating</th>\n",
       "      <th>Friday</th>\n",
       "      <th>Saturday</th>\n",
       "      <th>Sunday</th>\n",
       "      <th>Monday</th>\n",
       "      <th>Tuesday</th>\n",
       "      <th>...</th>\n",
       "      <th>Wednesday_morning</th>\n",
       "      <th>Wednesday_afternoon</th>\n",
       "      <th>Wednesday_evening</th>\n",
       "      <th>Thursday_morning</th>\n",
       "      <th>Thursday_afternoon</th>\n",
       "      <th>Thursday_evening</th>\n",
       "      <th>Website_known</th>\n",
       "      <th>Phone_known</th>\n",
       "      <th>main_category</th>\n",
       "      <th>geo_cluster</th>\n",
       "    </tr>\n",
       "  </thead>\n",
       "  <tbody>\n",
       "    <tr>\n",
       "      <th>0</th>\n",
       "      <td>Lead Handyman Services</td>\n",
       "      <td>25.324796</td>\n",
       "      <td>55.417346</td>\n",
       "      <td>-0.135231</td>\n",
       "      <td>1.061147</td>\n",
       "      <td>8-11 AM</td>\n",
       "      <td>8 AM-6 PM</td>\n",
       "      <td>8 AM-6 PM</td>\n",
       "      <td>8 AM-6 AM</td>\n",
       "      <td>8 AM-6 PM</td>\n",
       "      <td>...</td>\n",
       "      <td>0</td>\n",
       "      <td>0</td>\n",
       "      <td>0</td>\n",
       "      <td>0</td>\n",
       "      <td>0</td>\n",
       "      <td>0</td>\n",
       "      <td>1</td>\n",
       "      <td>1</td>\n",
       "      <td>Service</td>\n",
       "      <td>0</td>\n",
       "    </tr>\n",
       "    <tr>\n",
       "      <th>1</th>\n",
       "      <td>Sunil Ambalavelil - Lawyer and Legal Consultan...</td>\n",
       "      <td>25.188190</td>\n",
       "      <td>55.271341</td>\n",
       "      <td>-0.136699</td>\n",
       "      <td>1.061147</td>\n",
       "      <td>Hours not available</td>\n",
       "      <td>Hours not available</td>\n",
       "      <td>Hours not available</td>\n",
       "      <td>Hours not available</td>\n",
       "      <td>Hours not available</td>\n",
       "      <td>...</td>\n",
       "      <td>0</td>\n",
       "      <td>0</td>\n",
       "      <td>0</td>\n",
       "      <td>0</td>\n",
       "      <td>0</td>\n",
       "      <td>0</td>\n",
       "      <td>1</td>\n",
       "      <td>1</td>\n",
       "      <td>Attorney</td>\n",
       "      <td>0</td>\n",
       "    </tr>\n",
       "  </tbody>\n",
       "</table>\n",
       "<p>2 rows × 38 columns</p>\n",
       "</div>"
      ],
      "text/plain": [
       "                                                name   latitude  longitude  \\\n",
       "0                             Lead Handyman Services  25.324796  55.417346   \n",
       "1  Sunil Ambalavelil - Lawyer and Legal Consultan...  25.188190  55.271341   \n",
       "\n",
       "   review_count    rating               Friday             Saturday  \\\n",
       "0     -0.135231  1.061147              8-11 AM            8 AM-6 PM   \n",
       "1     -0.136699  1.061147  Hours not available  Hours not available   \n",
       "\n",
       "                Sunday               Monday              Tuesday  ...  \\\n",
       "0            8 AM-6 PM            8 AM-6 AM            8 AM-6 PM  ...   \n",
       "1  Hours not available  Hours not available  Hours not available  ...   \n",
       "\n",
       "  Wednesday_morning Wednesday_afternoon  Wednesday_evening  Thursday_morning  \\\n",
       "0                 0                   0                  0                 0   \n",
       "1                 0                   0                  0                 0   \n",
       "\n",
       "   Thursday_afternoon  Thursday_evening  Website_known  Phone_known  \\\n",
       "0                   0                 0              1            1   \n",
       "1                   0                 0              1            1   \n",
       "\n",
       "   main_category  geo_cluster  \n",
       "0        Service            0  \n",
       "1       Attorney            0  \n",
       "\n",
       "[2 rows x 38 columns]"
      ]
     },
     "execution_count": 3,
     "metadata": {},
     "output_type": "execute_result"
    }
   ],
   "source": [
    "# we have a train df with a new column from first clusterization\n",
    "new_train_df.head(2)"
   ]
  },
  {
   "cell_type": "markdown",
   "metadata": {},
   "source": [
    "# Feature engineering part 2"
   ]
  },
  {
   "cell_type": "markdown",
   "metadata": {},
   "source": [
    "We still have some columns to delete:\n",
    "* name - is unique for every company\n",
    "* latitude and longitude - these features were used for first clustering, now we have geo_cluster so we don't need them anymore\n",
    "* Friday,...Sunday - We already have binary columns like monday_morning/monday_evening etc\n",
    "\n",
    "Column that we have to encode: main category"
   ]
  },
  {
   "cell_type": "code",
   "execution_count": 4,
   "metadata": {},
   "outputs": [],
   "source": [
    "pipes1 = Pipeline([('remove_more_cols',MoreColumnsRemover()), # removing irrelevant columns mentioned above\n",
    "                   ('encoder', CategoryEncoder()),    # one hot encoding 'main'category' column\n",
    "                   ('bool_encode', BooleanToNumericEncoder())]) \n",
    "train_df = pipes1.fit_transform(new_train_df)"
   ]
  },
  {
   "cell_type": "code",
   "execution_count": 5,
   "metadata": {},
   "outputs": [
    {
     "data": {
      "text/plain": [
       "<Axes: >"
      ]
     },
     "execution_count": 5,
     "metadata": {},
     "output_type": "execute_result"
    },
    {
     "data": {
      "image/png": "[encoded data removed]",
      "text/plain": [
       "<Figure size 1000x600 with 1 Axes>"
      ]
     },
     "metadata": {},
     "output_type": "display_data"
    }
   ],
   "source": [
    "#check column's variances before standarization\n",
    "variances = train_df.var()\n",
    "sorted_variances = variances.sort_values()\n",
    "plt.figure(figsize=(10, 6))\n",
    "sorted_variances.plot(kind='bar')"
   ]
  },
  {
   "cell_type": "code",
   "execution_count": 6,
   "metadata": {},
   "outputs": [
    {
     "name": "stdout",
     "output_type": "stream",
     "text": [
      "Wariancje cech:\n",
      " Phone_known             0.000000\n",
      "Website_known           0.000000\n",
      "Friday_morning          0.106481\n",
      "Friday_afternoon        0.106481\n",
      "Friday_evening          0.106481\n",
      "Monday_afternoon        0.109538\n",
      "Monday_morning          0.109538\n",
      "Monday_evening          0.109538\n",
      "Saturday_morning        0.109638\n",
      "Saturday_afternoon      0.109638\n",
      "Saturday_evening        0.109638\n",
      "Thursday_morning        0.109688\n",
      "Tuesday_evening         0.109688\n",
      "Tuesday_afternoon       0.109688\n",
      "Tuesday_morning         0.109688\n",
      "Thursday_evening        0.109688\n",
      "Thursday_afternoon      0.109688\n",
      "Wednesday_morning       0.109787\n",
      "Wednesday_afternoon     0.109787\n",
      "Wednesday_evening       0.109787\n",
      "Sunday_afternoon        0.111129\n",
      "Sunday_morning          0.111129\n",
      "Sunday_evening          0.111129\n",
      "verified                0.208843\n",
      "review_count            0.712063\n",
      "rating                  0.970009\n",
      "geo_cluster             1.718311\n",
      "main_category          42.400658\n",
      "dtype: float64\n"
     ]
    }
   ],
   "source": [
    "print(\"Wariancje cech:\\n\", sorted_variances)"
   ]
  },
  {
   "cell_type": "markdown",
   "metadata": {},
   "source": [
    "Variance analysis will help us with selecting the best dataframe to use in clustering.\n",
    "\n",
    "We will create 3 selectors to select different subsets of columns in column_selector.py file."
   ]
  },
  {
   "cell_type": "markdown",
   "metadata": {},
   "source": [
    "## Feature selection"
   ]
  },
  {
   "cell_type": "code",
   "execution_count": 7,
   "metadata": {},
   "outputs": [],
   "source": [
    "selector1 = Pipeline([('three_biggest_var', FirstColumnSelector())])\n",
    "selector2 = Pipeline([('Variance_greater_than_015' ,SecondColumnSelector())])\n",
    "selector3 = Pipeline([('Variance_greater_than_0', ThirdColumnSelector())])\n",
    "\n",
    "train_df1 = selector1.fit_transform(train_df)\n",
    "train_df2 = selector2.fit_transform(train_df)\n",
    "train_df3 = selector3.fit_transform(train_df)"
   ]
  },
  {
   "cell_type": "markdown",
   "metadata": {},
   "source": [
    "## Feature standardization"
   ]
  },
  {
   "cell_type": "code",
   "execution_count": 9,
   "metadata": {},
   "outputs": [],
   "source": [
    "standardizer = Pipeline([('standardizer', SecondStandardizer())])\n",
    "\n",
    "train_df1 = standardizer.fit_transform(train_df1)\n",
    "train_df2 = standardizer.fit_transform(train_df2)\n",
    "train_df3 = standardizer.fit_transform(train_df3)"
   ]
  },
  {
   "cell_type": "code",
   "execution_count": 10,
   "metadata": {},
   "outputs": [
    {
     "data": {
      "text/html": [
       "<div>\n",
       "<style scoped>\n",
       "    .dataframe tbody tr th:only-of-type {\n",
       "        vertical-align: middle;\n",
       "    }\n",
       "\n",
       "    .dataframe tbody tr th {\n",
       "        vertical-align: top;\n",
       "    }\n",
       "\n",
       "    .dataframe thead th {\n",
       "        text-align: right;\n",
       "    }\n",
       "</style>\n",
       "<table border=\"1\" class=\"dataframe\">\n",
       "  <thead>\n",
       "    <tr style=\"text-align: right;\">\n",
       "      <th></th>\n",
       "      <th>geo_cluster</th>\n",
       "      <th>rating</th>\n",
       "      <th>review_count</th>\n",
       "      <th>main_category</th>\n",
       "    </tr>\n",
       "  </thead>\n",
       "  <tbody>\n",
       "    <tr>\n",
       "      <th>0</th>\n",
       "      <td>-0.528633</td>\n",
       "      <td>1.012531</td>\n",
       "      <td>-0.116107</td>\n",
       "      <td>0.568061</td>\n",
       "    </tr>\n",
       "    <tr>\n",
       "      <th>1</th>\n",
       "      <td>-0.528633</td>\n",
       "      <td>1.012531</td>\n",
       "      <td>-0.117847</td>\n",
       "      <td>-2.349915</td>\n",
       "    </tr>\n",
       "    <tr>\n",
       "      <th>2</th>\n",
       "      <td>0.234260</td>\n",
       "      <td>-0.349834</td>\n",
       "      <td>0.120765</td>\n",
       "      <td>0.721638</td>\n",
       "    </tr>\n",
       "    <tr>\n",
       "      <th>3</th>\n",
       "      <td>-0.528633</td>\n",
       "      <td>0.255662</td>\n",
       "      <td>-0.085535</td>\n",
       "      <td>0.260905</td>\n",
       "    </tr>\n",
       "    <tr>\n",
       "      <th>4</th>\n",
       "      <td>-0.528633</td>\n",
       "      <td>0.861157</td>\n",
       "      <td>-0.082304</td>\n",
       "      <td>0.568061</td>\n",
       "    </tr>\n",
       "    <tr>\n",
       "      <th>...</th>\n",
       "      <td>...</td>\n",
       "      <td>...</td>\n",
       "      <td>...</td>\n",
       "      <td>...</td>\n",
       "    </tr>\n",
       "    <tr>\n",
       "      <th>15034</th>\n",
       "      <td>-0.528633</td>\n",
       "      <td>-1.863572</td>\n",
       "      <td>-0.045021</td>\n",
       "      <td>-0.814138</td>\n",
       "    </tr>\n",
       "    <tr>\n",
       "      <th>15035</th>\n",
       "      <td>2.522939</td>\n",
       "      <td>-0.198460</td>\n",
       "      <td>-0.065651</td>\n",
       "      <td>-1.582027</td>\n",
       "    </tr>\n",
       "    <tr>\n",
       "      <th>15036</th>\n",
       "      <td>2.522939</td>\n",
       "      <td>0.104288</td>\n",
       "      <td>-0.111385</td>\n",
       "      <td>0.568061</td>\n",
       "    </tr>\n",
       "    <tr>\n",
       "      <th>15037</th>\n",
       "      <td>0.234260</td>\n",
       "      <td>-1.712198</td>\n",
       "      <td>-0.107408</td>\n",
       "      <td>-2.042760</td>\n",
       "    </tr>\n",
       "    <tr>\n",
       "      <th>15038</th>\n",
       "      <td>-0.528633</td>\n",
       "      <td>1.012531</td>\n",
       "      <td>-0.119090</td>\n",
       "      <td>-0.046250</td>\n",
       "    </tr>\n",
       "  </tbody>\n",
       "</table>\n",
       "<p>15039 rows × 4 columns</p>\n",
       "</div>"
      ],
      "text/plain": [
       "       geo_cluster    rating  review_count  main_category\n",
       "0        -0.528633  1.012531     -0.116107       0.568061\n",
       "1        -0.528633  1.012531     -0.117847      -2.349915\n",
       "2         0.234260 -0.349834      0.120765       0.721638\n",
       "3        -0.528633  0.255662     -0.085535       0.260905\n",
       "4        -0.528633  0.861157     -0.082304       0.568061\n",
       "...            ...       ...           ...            ...\n",
       "15034    -0.528633 -1.863572     -0.045021      -0.814138\n",
       "15035     2.522939 -0.198460     -0.065651      -1.582027\n",
       "15036     2.522939  0.104288     -0.111385       0.568061\n",
       "15037     0.234260 -1.712198     -0.107408      -2.042760\n",
       "15038    -0.528633  1.012531     -0.119090      -0.046250\n",
       "\n",
       "[15039 rows x 4 columns]"
      ]
     },
     "execution_count": 10,
     "metadata": {},
     "output_type": "execute_result"
    }
   ],
   "source": [
    "train_df1"
   ]
  },
  {
   "cell_type": "markdown",
   "metadata": {},
   "source": [
    "### At this point we have 3 dataframes to use. The most general one is train_df3 (we only removed columns with variance 0)"
   ]
  },
  {
   "cell_type": "markdown",
   "metadata": {},
   "source": [
    "# PCA"
   ]
  },
  {
   "cell_type": "code",
   "execution_count": 33,
   "metadata": {},
   "outputs": [],
   "source": [
    "#let's see if we can achieve little information loss with only 2 components\n",
    "def print_explained_variance(df):\n",
    "    pca = PCA(n_components=3)\n",
    "    pca.fit(df)\n",
    "    print(pca.explained_variance_ratio_)"
   ]
  },
  {
   "cell_type": "code",
   "execution_count": 34,
   "metadata": {},
   "outputs": [
    {
     "name": "stdout",
     "output_type": "stream",
     "text": [
      "[0.79093257 0.04791902 0.0401213 ]\n"
     ]
    }
   ],
   "source": [
    "print_explained_variance(train_df3)"
   ]
  },
  {
   "cell_type": "markdown",
   "metadata": {},
   "source": [
    "Explained variance measures the proportion of variance in the data that is explained by each principal component. "
   ]
  },
  {
   "cell_type": "code",
   "execution_count": 35,
   "metadata": {},
   "outputs": [],
   "source": [
    "def print_optimal_components(df, trehslod):\n",
    "    pca = PCA(trehslod)\n",
    "    pca.fit(df)\n",
    "    print(pca.n_components_)"
   ]
  },
  {
   "cell_type": "code",
   "execution_count": 37,
   "metadata": {},
   "outputs": [
    {
     "name": "stdout",
     "output_type": "stream",
     "text": [
      "3\n"
     ]
    }
   ],
   "source": [
    "print_optimal_components(train_df3, .85) # no point in checking for df1 and df2 as they have just a few columns"
   ]
  },
  {
   "cell_type": "markdown",
   "metadata": {},
   "source": [
    "We need 3 components to keep 85% of info"
   ]
  },
  {
   "cell_type": "markdown",
   "metadata": {},
   "source": [
    "In order to have 85% of the variance explained we need 21 components. Our dataframe has 50 so that is less than half of the features that we would need withou pca"
   ]
  },
  {
   "cell_type": "markdown",
   "metadata": {},
   "source": [
    "# Model building and evaluation"
   ]
  },
  {
   "cell_type": "markdown",
   "metadata": {},
   "source": [
    "First let's look at some evaluation metrics that we will use for chooseing the best model.\n",
    "1. **Silhouuette Score** - how each point is similar to other points in it's cluster (form -1 to 1)\n",
    "2. **Davies-Bouldin Index** - how a given cluster is similar to the next one (the higher the score the worse)\n",
    "3. **minimal distance between clusters** - minimal distance between two points that are in different clusters (cluster separation)\n",
    "4. **mean distance to the cluster center** - average distance between points in clusters and cluster center\n",
    "5. **mean inclust distance** - How close are points to each other in one cluster?"
   ]
  },
  {
   "cell_type": "markdown",
   "metadata": {},
   "source": [
    "Also let's create some custom metrics like small distances among cluster, good cluster separation and good representation by center"
   ]
  },
  {
   "cell_type": "code",
   "execution_count": 42,
   "metadata": {},
   "outputs": [],
   "source": [
    "from scipy.spatial import distance\n",
    "#functions from Lab9 for minimal distance between clusters and distance to center\n",
    "def min_interclust_dist(df, label):\n",
    "    clusters = set(label)\n",
    "    global_min_dist = np.inf\n",
    "    for cluster_i in clusters:\n",
    "        cluster_i_idx = np.where(label == cluster_i)\n",
    "        for cluster_j in clusters:\n",
    "            if cluster_i != cluster_j:\n",
    "                cluster_j_idx = np.where(label == cluster_j)\n",
    "                interclust_min_dist = np.min(distance.cdist(df[cluster_i_idx], df[cluster_j_idx]))\n",
    "                global_min_dist = np.min([global_min_dist, interclust_min_dist])\n",
    "    return global_min_dist\n",
    "\n",
    "def _inclust_mean_dists(X, label):\n",
    "    clusters = set(label)\n",
    "    inclust_dist_list = []\n",
    "    for cluster_i in clusters:\n",
    "        cluster_i_idx = np.where(label == cluster_i)\n",
    "        inclust_dist = np.mean(distance.pdist(X[cluster_i_idx]))\n",
    "        inclust_dist_list.append(inclust_dist)\n",
    "    return inclust_dist_list\n",
    "\n",
    "def mean_inclust_dist(X, label):\n",
    "    inclust_dist_list = _inclust_mean_dists(X, label)\n",
    "    return np.mean(inclust_dist_list)\n",
    "\n",
    "def mean_dist_to_center(X, label):\n",
    "    clusters = set(label)\n",
    "    inclust_dist_list = []\n",
    "    for cluster_i in clusters:\n",
    "        cluster_i_idx = np.where(label == cluster_i)\n",
    "        cluster_i_mean = np.mean(X[cluster_i_idx], axis=0, keepdims=True)\n",
    "        inclust_dist = np.mean(distance.cdist(X[cluster_i_idx], cluster_i_mean))\n",
    "        inclust_dist_list.append(inclust_dist)\n",
    "    return np.mean(inclust_dist_list)"
   ]
  },
  {
   "cell_type": "code",
   "execution_count": 104,
   "metadata": {},
   "outputs": [],
   "source": [
    "from sklearn.metrics import silhouette_score,davies_bouldin_score\n",
    "def create_report(model, data):\n",
    "    model.fit(data)\n",
    "    labels = model.labels_\n",
    "\n",
    "    silhouette = silhouette_score(data,labels)\n",
    "    davies = davies_bouldin_score(data,labels)\n",
    "\n",
    "    X = data.values\n",
    "\n",
    "    min_interclust = min_interclust_dist(X,labels)\n",
    "    mean_center = mean_dist_to_center(X,labels)\n",
    "    mean_inclust = mean_inclust_dist(X,labels)\n",
    "\n",
    "    result = pd.DataFrame({\n",
    "        'Metric': ['Silhouette Score', 'Davies-Bouldin Score', 'Min interclust distance', 'Mean distance to center','Inclust mean distance'],\n",
    "        'Score': [silhouette, davies, min_interclust, mean_center,mean_inclust]\n",
    "    })\n",
    "\n",
    "    print(result)"
   ]
  },
  {
   "cell_type": "code",
   "execution_count": 62,
   "metadata": {},
   "outputs": [],
   "source": [
    "from sklearn.metrics import silhouette_score,davies_bouldin_score\n",
    "def create_report_for_PCA(model, X):\n",
    "    model.fit(X)\n",
    "    labels = model.labels_\n",
    "\n",
    "    silhouette = silhouette_score(X,labels)\n",
    "    davies = davies_bouldin_score(X,labels)\n",
    "\n",
    "\n",
    "    min_interclust = min_interclust_dist(X,labels)\n",
    "    mean_center = mean_dist_to_center(X,labels)\n",
    "    mean_inclust = mean_inclust_dist(X,labels)\n",
    "\n",
    "    result = pd.DataFrame({\n",
    "        'Metric': ['Silhouette Score', 'Davies-Bouldin Score', 'Min interclust distance', 'Mean distance to center','Inclust mean distance'],\n",
    "        'Score': [silhouette, davies, min_interclust, mean_center,mean_inclust]\n",
    "    })\n",
    "\n",
    "    print(result)"
   ]
  },
  {
   "cell_type": "markdown",
   "metadata": {},
   "source": [
    "# Model 1 - KMeans"
   ]
  },
  {
   "cell_type": "code",
   "execution_count": 44,
   "metadata": {},
   "outputs": [],
   "source": [
    "#how many clusters should we use?\n",
    "def print_elbows(data):\n",
    "    inertia=[]\n",
    "    for k in range (1,11):\n",
    "        model = KMeans(n_clusters=k)\n",
    "        model.fit(data) \n",
    "        inertia.append(model.inertia_)\n",
    "    plt.figure(figsize=(8,6))\n",
    "    plt.plot(range(1,11), inertia, marker='o', linestyle='-')\n",
    "    plt.xlabel('Number of clusters')\n",
    "    plt.ylabel('Inertia')\n",
    "    plt.title(\"Elbow plot\")\n",
    "    plt.xticks(np.arange(1,11,1))\n",
    "    plt.show()"
   ]
  },
  {
   "cell_type": "code",
   "execution_count": 45,
   "metadata": {},
   "outputs": [
    {
     "data": {
      "image/png": "[encoded data removed]",
      "text/plain": [
       "<Figure size 800x600 with 1 Axes>"
      ]
     },
     "metadata": {},
     "output_type": "display_data"
    }
   ],
   "source": [
    "print_elbows(train_df1)"
   ]
  },
  {
   "cell_type": "markdown",
   "metadata": {},
   "source": [
    "We can see the albow at 4-6 clusters for first df"
   ]
  },
  {
   "cell_type": "code",
   "execution_count": 46,
   "metadata": {},
   "outputs": [
    {
     "data": {
      "image/png": "[encoded data removed]",
      "text/plain": [
       "<Figure size 800x600 with 1 Axes>"
      ]
     },
     "metadata": {},
     "output_type": "display_data"
    }
   ],
   "source": [
    "print_elbows(train_df2)"
   ]
  },
  {
   "cell_type": "markdown",
   "metadata": {},
   "source": [
    "There is no obvious elbow for df2 but maybe around 6 or 9"
   ]
  },
  {
   "cell_type": "code",
   "execution_count": 26,
   "metadata": {},
   "outputs": [
    {
     "data": {
      "image/png": "[encoded data removed]",
      "text/plain": [
       "<Figure size 800x600 with 1 Axes>"
      ]
     },
     "metadata": {},
     "output_type": "display_data"
    }
   ],
   "source": [
    "print_elbows(train_df3)"
   ]
  },
  {
   "cell_type": "markdown",
   "metadata": {},
   "source": [
    "Here optimal number of clusters would be 2"
   ]
  },
  {
   "cell_type": "code",
   "execution_count": 47,
   "metadata": {},
   "outputs": [
    {
     "name": "stdout",
     "output_type": "stream",
     "text": [
      "                    Metric     Score\n",
      "0         Silhouette Score  0.504224\n",
      "1     Davies-Bouldin Score  0.754715\n",
      "2  Min interclust distance  0.151374\n",
      "3  Mean distance to center  2.766247\n",
      "4    Inclust mean distance  3.783074\n"
     ]
    }
   ],
   "source": [
    "model = KMeans(n_clusters=5)\n",
    "create_report(model,train_df1)"
   ]
  },
  {
   "cell_type": "code",
   "execution_count": 49,
   "metadata": {},
   "outputs": [
    {
     "name": "stdout",
     "output_type": "stream",
     "text": [
      "                    Metric     Score\n",
      "0         Silhouette Score  0.463110\n",
      "1     Davies-Bouldin Score  0.828715\n",
      "2  Min interclust distance  0.151374\n",
      "3  Mean distance to center  2.626854\n",
      "4    Inclust mean distance  3.591501\n"
     ]
    }
   ],
   "source": [
    "model=KMeans(n_clusters=6)\n",
    "create_report(model, train_df2)"
   ]
  },
  {
   "cell_type": "code",
   "execution_count": 50,
   "metadata": {},
   "outputs": [
    {
     "name": "stdout",
     "output_type": "stream",
     "text": [
      "                    Metric     Score\n",
      "0         Silhouette Score  0.804249\n",
      "1     Davies-Bouldin Score  0.282278\n",
      "2  Min interclust distance  5.701534\n",
      "3  Mean distance to center  1.928347\n",
      "4    Inclust mean distance  2.781823\n"
     ]
    }
   ],
   "source": [
    "model = KMeans(n_clusters=2)\n",
    "create_report(model,train_df3)"
   ]
  },
  {
   "cell_type": "code",
   "execution_count": 53,
   "metadata": {},
   "outputs": [
    {
     "name": "stdout",
     "output_type": "stream",
     "text": [
      "                    Metric     Score\n",
      "0         Silhouette Score  0.436347\n",
      "1     Davies-Bouldin Score  0.815094\n",
      "2  Min interclust distance  0.004046\n",
      "3  Mean distance to center  1.046824\n",
      "4    Inclust mean distance  1.461524\n"
     ]
    }
   ],
   "source": [
    "model = KMeans(n_clusters=3)\n",
    "pca = PCA(0.85)\n",
    "data= pca.fit_transform(train_df3)\n",
    "create_report_for_PCA(model,data)"
   ]
  },
  {
   "cell_type": "markdown",
   "metadata": {},
   "source": [
    "Best results for train_df3 with PCA or train_df1. Let's try to tune parameters"
   ]
  },
  {
   "cell_type": "code",
   "execution_count": 53,
   "metadata": {},
   "outputs": [],
   "source": [
    "param_grid={\n",
    "    'n_clusters': range(2, 15),\n",
    "    'init': ['k-means++', 'random'],\n",
    "    'n_init': [10, 20, 30],\n",
    "    'max_iter': [300,400, 600]\n",
    "}\n",
    "\n",
    "model = KMeans()\n",
    "reduced_df = pca.fit_transform(train_df3)\n",
    "scoring = 'silhouette'\n",
    "grid_search = GridSearchCV(model, param_grid, cv=5, n_jobs=-1, scoring='explained_variance')\n",
    "grid_search.fit(reduced_df)\n",
    "\n",
    "best_model = grid_search.best_estimator_"
   ]
  },
  {
   "cell_type": "code",
   "execution_count": 54,
   "metadata": {},
   "outputs": [
    {
     "name": "stdout",
     "output_type": "stream",
     "text": [
      "                    Metric     Score\n",
      "0         Silhouette Score  0.874121\n",
      "1     Davies-Bouldin Score  0.174206\n",
      "2  Min interclust distance  2.114818\n",
      "3  Mean distance to center  1.190049\n",
      "4    Inclust mean distance  1.692866\n"
     ]
    }
   ],
   "source": [
    "model = KMeans(n_clusters=2,n_init=10, max_iter=600)\n",
    "pca = PCA(0.85)\n",
    "create_report_for_PCA(model,pca.fit_transform(train_df3))"
   ]
  },
  {
   "cell_type": "markdown",
   "metadata": {},
   "source": [
    "**Observations**\n",
    "1. We have the best silhuette score for KMeans with hyperparameters and PCA\n",
    "2. KMeans with hyperparameters and PCA also has best results in minimal distance between clsuters >2"
   ]
  },
  {
   "cell_type": "markdown",
   "metadata": {},
   "source": [
    "# DBSCAN - Density based"
   ]
  },
  {
   "cell_type": "code",
   "execution_count": 81,
   "metadata": {},
   "outputs": [
    {
     "data": {
      "text/html": [
       "<style>#sk-container-id-3 {color: black;}#sk-container-id-3 pre{padding: 0;}#sk-container-id-3 div.sk-toggleable {background-color: white;}#sk-container-id-3 label.sk-toggleable__label {cursor: pointer;display: block;width: 100%;margin-bottom: 0;padding: 0.3em;box-sizing: border-box;text-align: center;}#sk-container-id-3 label.sk-toggleable__label-arrow:before {content: \"▸\";float: left;margin-right: 0.25em;color: #696969;}#sk-container-id-3 label.sk-toggleable__label-arrow:hover:before {color: black;}#sk-container-id-3 div.sk-estimator:hover label.sk-toggleable__label-arrow:before {color: black;}#sk-container-id-3 div.sk-toggleable__content {max-height: 0;max-width: 0;overflow: hidden;text-align: left;background-color: #f0f8ff;}#sk-container-id-3 div.sk-toggleable__content pre {margin: 0.2em;color: black;border-radius: 0.25em;background-color: #f0f8ff;}#sk-container-id-3 input.sk-toggleable__control:checked~div.sk-toggleable__content {max-height: 200px;max-width: 100%;overflow: auto;}#sk-container-id-3 input.sk-toggleable__control:checked~label.sk-toggleable__label-arrow:before {content: \"▾\";}#sk-container-id-3 div.sk-estimator input.sk-toggleable__control:checked~label.sk-toggleable__label {background-color: #d4ebff;}#sk-container-id-3 div.sk-label input.sk-toggleable__control:checked~label.sk-toggleable__label {background-color: #d4ebff;}#sk-container-id-3 input.sk-hidden--visually {border: 0;clip: rect(1px 1px 1px 1px);clip: rect(1px, 1px, 1px, 1px);height: 1px;margin: -1px;overflow: hidden;padding: 0;position: absolute;width: 1px;}#sk-container-id-3 div.sk-estimator {font-family: monospace;background-color: #f0f8ff;border: 1px dotted black;border-radius: 0.25em;box-sizing: border-box;margin-bottom: 0.5em;}#sk-container-id-3 div.sk-estimator:hover {background-color: #d4ebff;}#sk-container-id-3 div.sk-parallel-item::after {content: \"\";width: 100%;border-bottom: 1px solid gray;flex-grow: 1;}#sk-container-id-3 div.sk-label:hover label.sk-toggleable__label {background-color: #d4ebff;}#sk-container-id-3 div.sk-serial::before {content: \"\";position: absolute;border-left: 1px solid gray;box-sizing: border-box;top: 0;bottom: 0;left: 50%;z-index: 0;}#sk-container-id-3 div.sk-serial {display: flex;flex-direction: column;align-items: center;background-color: white;padding-right: 0.2em;padding-left: 0.2em;position: relative;}#sk-container-id-3 div.sk-item {position: relative;z-index: 1;}#sk-container-id-3 div.sk-parallel {display: flex;align-items: stretch;justify-content: center;background-color: white;position: relative;}#sk-container-id-3 div.sk-item::before, #sk-container-id-3 div.sk-parallel-item::before {content: \"\";position: absolute;border-left: 1px solid gray;box-sizing: border-box;top: 0;bottom: 0;left: 50%;z-index: -1;}#sk-container-id-3 div.sk-parallel-item {display: flex;flex-direction: column;z-index: 1;position: relative;background-color: white;}#sk-container-id-3 div.sk-parallel-item:first-child::after {align-self: flex-end;width: 50%;}#sk-container-id-3 div.sk-parallel-item:last-child::after {align-self: flex-start;width: 50%;}#sk-container-id-3 div.sk-parallel-item:only-child::after {width: 0;}#sk-container-id-3 div.sk-dashed-wrapped {border: 1px dashed gray;margin: 0 0.4em 0.5em 0.4em;box-sizing: border-box;padding-bottom: 0.4em;background-color: white;}#sk-container-id-3 div.sk-label label {font-family: monospace;font-weight: bold;display: inline-block;line-height: 1.2em;}#sk-container-id-3 div.sk-label-container {text-align: center;}#sk-container-id-3 div.sk-container {/* jupyter's `normalize.less` sets `[hidden] { display: none; }` but bootstrap.min.css set `[hidden] { display: none !important; }` so we also need the `!important` here to be able to override the default hidden behavior on the sphinx rendered scikit-learn.org. See: https://github.com/scikit-learn/scikit-learn/issues/21755 */display: inline-block !important;position: relative;}#sk-container-id-3 div.sk-text-repr-fallback {display: none;}</style><div id=\"sk-container-id-3\" class=\"sk-top-container\"><div class=\"sk-text-repr-fallback\"><pre>GridSearchCV(cv=3, estimator=DBSCAN(), n_jobs=-1,\n",
       "             param_grid={&#x27;eps&#x27;: array([ 0.1       ,  0.40408163,  0.70816327,  1.0122449 ,  1.31632653,\n",
       "        1.62040816,  1.9244898 ,  2.22857143,  2.53265306,  2.83673469,\n",
       "        3.14081633,  3.44489796,  3.74897959,  4.05306122,  4.35714286,\n",
       "        4.66122449,  4.96530612,  5.26938776,  5.57346939,  5.87755102,\n",
       "        6.18163265,  6.48571429,  6.78979592,  7.09387755,  7.39795918,\n",
       "        7.70204082,  8...71,  8.91836735,\n",
       "        9.22244898,  9.52653061,  9.83061224, 10.13469388, 10.43877551,\n",
       "       10.74285714, 11.04693878, 11.35102041, 11.65510204, 11.95918367,\n",
       "       12.26326531, 12.56734694, 12.87142857, 13.1755102 , 13.47959184,\n",
       "       13.78367347, 14.0877551 , 14.39183673, 14.69591837, 15.        ]),\n",
       "                         &#x27;min_samples&#x27;: array([ 6,  7,  8,  9, 10, 11, 12, 13, 14, 15, 16, 17, 18, 19])},\n",
       "             scoring=make_scorer(dbscan_silhouette_score))</pre><b>In a Jupyter environment, please rerun this cell to show the HTML representation or trust the notebook. <br />On GitHub, the HTML representation is unable to render, please try loading this page with nbviewer.org.</b></div><div class=\"sk-container\" hidden><div class=\"sk-item sk-dashed-wrapped\"><div class=\"sk-label-container\"><div class=\"sk-label sk-toggleable\"><input class=\"sk-toggleable__control sk-hidden--visually\" id=\"sk-estimator-id-7\" type=\"checkbox\" ><label for=\"sk-estimator-id-7\" class=\"sk-toggleable__label sk-toggleable__label-arrow\">GridSearchCV</label><div class=\"sk-toggleable__content\"><pre>GridSearchCV(cv=3, estimator=DBSCAN(), n_jobs=-1,\n",
       "             param_grid={&#x27;eps&#x27;: array([ 0.1       ,  0.40408163,  0.70816327,  1.0122449 ,  1.31632653,\n",
       "        1.62040816,  1.9244898 ,  2.22857143,  2.53265306,  2.83673469,\n",
       "        3.14081633,  3.44489796,  3.74897959,  4.05306122,  4.35714286,\n",
       "        4.66122449,  4.96530612,  5.26938776,  5.57346939,  5.87755102,\n",
       "        6.18163265,  6.48571429,  6.78979592,  7.09387755,  7.39795918,\n",
       "        7.70204082,  8...71,  8.91836735,\n",
       "        9.22244898,  9.52653061,  9.83061224, 10.13469388, 10.43877551,\n",
       "       10.74285714, 11.04693878, 11.35102041, 11.65510204, 11.95918367,\n",
       "       12.26326531, 12.56734694, 12.87142857, 13.1755102 , 13.47959184,\n",
       "       13.78367347, 14.0877551 , 14.39183673, 14.69591837, 15.        ]),\n",
       "                         &#x27;min_samples&#x27;: array([ 6,  7,  8,  9, 10, 11, 12, 13, 14, 15, 16, 17, 18, 19])},\n",
       "             scoring=make_scorer(dbscan_silhouette_score))</pre></div></div></div><div class=\"sk-parallel\"><div class=\"sk-parallel-item\"><div class=\"sk-item\"><div class=\"sk-label-container\"><div class=\"sk-label sk-toggleable\"><input class=\"sk-toggleable__control sk-hidden--visually\" id=\"sk-estimator-id-8\" type=\"checkbox\" ><label for=\"sk-estimator-id-8\" class=\"sk-toggleable__label sk-toggleable__label-arrow\">estimator: DBSCAN</label><div class=\"sk-toggleable__content\"><pre>DBSCAN()</pre></div></div></div><div class=\"sk-serial\"><div class=\"sk-item\"><div class=\"sk-estimator sk-toggleable\"><input class=\"sk-toggleable__control sk-hidden--visually\" id=\"sk-estimator-id-9\" type=\"checkbox\" ><label for=\"sk-estimator-id-9\" class=\"sk-toggleable__label sk-toggleable__label-arrow\">DBSCAN</label><div class=\"sk-toggleable__content\"><pre>DBSCAN()</pre></div></div></div></div></div></div></div></div></div></div>"
      ],
      "text/plain": [
       "GridSearchCV(cv=3, estimator=DBSCAN(), n_jobs=-1,\n",
       "             param_grid={'eps': array([ 0.1       ,  0.40408163,  0.70816327,  1.0122449 ,  1.31632653,\n",
       "        1.62040816,  1.9244898 ,  2.22857143,  2.53265306,  2.83673469,\n",
       "        3.14081633,  3.44489796,  3.74897959,  4.05306122,  4.35714286,\n",
       "        4.66122449,  4.96530612,  5.26938776,  5.57346939,  5.87755102,\n",
       "        6.18163265,  6.48571429,  6.78979592,  7.09387755,  7.39795918,\n",
       "        7.70204082,  8...71,  8.91836735,\n",
       "        9.22244898,  9.52653061,  9.83061224, 10.13469388, 10.43877551,\n",
       "       10.74285714, 11.04693878, 11.35102041, 11.65510204, 11.95918367,\n",
       "       12.26326531, 12.56734694, 12.87142857, 13.1755102 , 13.47959184,\n",
       "       13.78367347, 14.0877551 , 14.39183673, 14.69591837, 15.        ]),\n",
       "                         'min_samples': array([ 6,  7,  8,  9, 10, 11, 12, 13, 14, 15, 16, 17, 18, 19])},\n",
       "             scoring=make_scorer(dbscan_silhouette_score))"
      ]
     },
     "execution_count": 81,
     "metadata": {},
     "output_type": "execute_result"
    }
   ],
   "source": [
    "from sklearn.cluster import DBSCAN\n",
    "from sklearn.metrics import make_scorer\n",
    "\n",
    "def dbscan_silhouette_score(X, labels):\n",
    "    # Jeżeli wszystkie punkty są zaklasyfikowane jako szum (label -1), zwróć wynik -1\n",
    "    if len(set(labels)) <= 1:\n",
    "        return -1\n",
    "    else:\n",
    "        return silhouette_score(X, labels)\n",
    "    \n",
    "param_grid = {\n",
    "    'eps': np.linspace(0.1,15),\n",
    "    'min_samples': np.arange(6,20,step=1)\n",
    "}\n",
    "\n",
    "dbscan= DBSCAN()\n",
    "grid_search = GridSearchCV(dbscan, param_grid, scoring=make_scorer(dbscan_silhouette_score), cv=3, n_jobs=-1)\n",
    "\n",
    "pca = PCA(0.85)\n",
    "reduced_df = pca.fit_transform(train_df3)\n",
    "grid_search.fit(reduced_df)"
   ]
  },
  {
   "cell_type": "code",
   "execution_count": 82,
   "metadata": {},
   "outputs": [
    {
     "name": "stdout",
     "output_type": "stream",
     "text": [
      "{'eps': 0.1, 'min_samples': 6}\n"
     ]
    }
   ],
   "source": [
    "print(grid_search.best_params_)"
   ]
  },
  {
   "cell_type": "code",
   "execution_count": 83,
   "metadata": {},
   "outputs": [
    {
     "name": "stdout",
     "output_type": "stream",
     "text": [
      "{0, 1, 2, 3, 4, 5, 6, 7, 8, 9, 10, 11, 12, 13, 14, 15, 16, 17, 18, 19, 20, 21, 22, 23, 24, 25, 26, 27, 28, 29, 30, 31, 32, 33, 34, 35, 36, 37, 38, 39, 40, 41, 42, 43, 44, 45, 46, 47, 48, 49, 50, 51, 52, 53, 54, 55, 56, 57, 58, 59, 60, 61, 62, 63, 64, 65, 66, 67, 68, 69, 70, 71, 72, 73, -1}\n"
     ]
    }
   ],
   "source": [
    "model = DBSCAN(eps=0.1, min_samples=6)\n",
    "model.fit(reduced_df)\n",
    "print(set(model.labels_))"
   ]
  },
  {
   "cell_type": "markdown",
   "metadata": {},
   "source": [
    "Grid Search results are not safisfying as they focus on best score and create too many clusters, so let's experiment"
   ]
  },
  {
   "cell_type": "code",
   "execution_count": 86,
   "metadata": {},
   "outputs": [],
   "source": [
    "def dbscan_clusters(eps,min_s,dataframe):\n",
    "    model = DBSCAN(eps=eps,min_samples=min_s)\n",
    "    model.fit(dataframe)\n",
    "    print(set(model.labels_))"
   ]
  },
  {
   "cell_type": "code",
   "execution_count": 91,
   "metadata": {},
   "outputs": [
    {
     "name": "stdout",
     "output_type": "stream",
     "text": [
      "{0, 1, 2, 3, 4, 5, 6, 7, 8, 9, 10, 11, 12, 13, 14, 15, -1}\n",
      "                    Metric     Score\n",
      "0         Silhouette Score  0.156701\n",
      "1     Davies-Bouldin Score  1.088130\n",
      "2  Min interclust distance  0.074778\n",
      "3  Mean distance to center  0.633382\n",
      "4    Inclust mean distance  0.808172\n"
     ]
    }
   ],
   "source": [
    "dbscan_clusters(0.2,15,reduced_df)\n",
    "create_report_for_PCA(DBSCAN(eps=0.2, min_samples=15), reduced_df)"
   ]
  },
  {
   "cell_type": "markdown",
   "metadata": {},
   "source": [
    "While having a poor silhuette score, we have quite good distance to center and inclust distance"
   ]
  },
  {
   "cell_type": "code",
   "execution_count": 94,
   "metadata": {},
   "outputs": [
    {
     "name": "stdout",
     "output_type": "stream",
     "text": [
      "{0, 1, 2, 3, 4, 5, 6, 7, 8, 9, 10, 11, 12, 13, 14, 15, 16, 17, 18, 19, 20, 21, -1}\n",
      "                    Metric     Score\n",
      "0         Silhouette Score  0.109971\n",
      "1     Davies-Bouldin Score  1.111190\n",
      "2  Min interclust distance  0.020615\n",
      "3  Mean distance to center  0.465892\n",
      "4    Inclust mean distance  0.595231\n"
     ]
    }
   ],
   "source": [
    "dbscan_clusters(0.17,12,reduced_df)\n",
    "create_report_for_PCA(DBSCAN(eps=0.17, min_samples=12), reduced_df)"
   ]
  },
  {
   "cell_type": "code",
   "execution_count": 99,
   "metadata": {},
   "outputs": [
    {
     "name": "stdout",
     "output_type": "stream",
     "text": [
      "{0, 1, 2, 3, 4, 5, 6, 7, 8, 9, 10, 11, 12, 13, 14, 15, 16, 17, 18, 19, 20, -1}\n",
      "                    Metric     Score\n",
      "0         Silhouette Score  0.222641\n",
      "1     Davies-Bouldin Score  1.135930\n",
      "2  Min interclust distance  0.126368\n",
      "3  Mean distance to center  0.555548\n",
      "4    Inclust mean distance  0.752013\n"
     ]
    }
   ],
   "source": [
    "dbscan_clusters(0.3,6,reduced_df)\n",
    "create_report_for_PCA(DBSCAN(eps=0.3, min_samples=6), reduced_df)"
   ]
  },
  {
   "cell_type": "markdown",
   "metadata": {},
   "source": [
    "Let's try DBSCAN for df without PCA"
   ]
  },
  {
   "cell_type": "code",
   "execution_count": 105,
   "metadata": {},
   "outputs": [
    {
     "name": "stdout",
     "output_type": "stream",
     "text": [
      "{0, 1, 2, 3, 4, 5, 6, 7, 8, 9, 10, 11, 12, 13, 14, 15, 16, 17, 18, 19, 20, 21, 22, 23, 24, -1}\n",
      "                    Metric     Score\n",
      "0         Silhouette Score -0.092648\n",
      "1     Davies-Bouldin Score  1.433913\n",
      "2  Min interclust distance  0.004723\n",
      "3  Mean distance to center  0.337746\n",
      "4    Inclust mean distance  0.461669\n"
     ]
    }
   ],
   "source": [
    "dbscan_clusters(0.3,20,train_df1)\n",
    "create_report(DBSCAN(eps=0.3,min_samples=20),train_df1)"
   ]
  },
  {
   "cell_type": "markdown",
   "metadata": {},
   "source": [
    "Rather poor results"
   ]
  },
  {
   "cell_type": "code",
   "execution_count": 108,
   "metadata": {},
   "outputs": [
    {
     "name": "stdout",
     "output_type": "stream",
     "text": [
      "{0, 1, 2, 3, 4, 5, 6, 7, 8, 9, 10, 11, 12, 13, 14, 15, 16, 17, 18, 19, 20, 21, 22, 23, 24, 25, 26, 27, 28, 29, -1}\n",
      "                    Metric     Score\n",
      "0         Silhouette Score  0.011304\n",
      "1     Davies-Bouldin Score  1.401159\n",
      "2  Min interclust distance  0.026347\n",
      "3  Mean distance to center  0.650901\n",
      "4    Inclust mean distance  0.879121\n"
     ]
    }
   ],
   "source": [
    "dbscan_clusters(0.5,20,train_df3)\n",
    "create_report(DBSCAN(eps=0.5,min_samples=20),train_df3)"
   ]
  },
  {
   "cell_type": "markdown",
   "metadata": {},
   "source": [
    "For DBSCAN results are also best for PCA reduced dataframe"
   ]
  },
  {
   "cell_type": "markdown",
   "metadata": {},
   "source": [
    "# Agglomerative clustering -hierarchical"
   ]
  },
  {
   "cell_type": "code",
   "execution_count": 112,
   "metadata": {},
   "outputs": [
    {
     "name": "stdout",
     "output_type": "stream",
     "text": [
      "                    Metric     Score\n",
      "0         Silhouette Score  0.468152\n",
      "1     Davies-Bouldin Score  1.116600\n",
      "2  Min interclust distance  0.151394\n",
      "3  Mean distance to center  1.498684\n",
      "4    Inclust mean distance  2.133770\n"
     ]
    }
   ],
   "source": [
    "from sklearn.cluster import AgglomerativeClustering\n",
    "\n",
    "model = AgglomerativeClustering()\n",
    "model.fit(train_df1)\n",
    "create_report(model,train_df1)"
   ]
  },
  {
   "cell_type": "code",
   "execution_count": 113,
   "metadata": {},
   "outputs": [
    {
     "name": "stdout",
     "output_type": "stream",
     "text": [
      "                    Metric     Score\n",
      "0         Silhouette Score  0.874054\n",
      "1     Davies-Bouldin Score  0.173564\n",
      "2  Min interclust distance  1.753212\n",
      "3  Mean distance to center  1.186306\n",
      "4    Inclust mean distance  1.687482\n"
     ]
    }
   ],
   "source": [
    "model=AgglomerativeClustering()\n",
    "model.fit(reduced_df)\n",
    "create_report_for_PCA(model,reduced_df)"
   ]
  },
  {
   "cell_type": "markdown",
   "metadata": {},
   "source": [
    "The best silhuette score so far. Let's experiment with parameters"
   ]
  },
  {
   "cell_type": "code",
   "execution_count": 118,
   "metadata": {},
   "outputs": [
    {
     "name": "stdout",
     "output_type": "stream",
     "text": [
      "                    Metric     Score\n",
      "0         Silhouette Score  0.445487\n",
      "1     Davies-Bouldin Score  0.804481\n",
      "2  Min interclust distance  0.115811\n",
      "3  Mean distance to center  1.294142\n",
      "4    Inclust mean distance  1.849250\n"
     ]
    }
   ],
   "source": [
    "model=AgglomerativeClustering(n_clusters=3)\n",
    "pca = PCA(0.9)\n",
    "reduced_df = pca.fit_transform(train_df3)\n",
    "model.fit(reduced_df)\n",
    "create_report_for_PCA(model,reduced_df)"
   ]
  },
  {
   "cell_type": "markdown",
   "metadata": {},
   "source": [
    "After few changes the scores didn't improve"
   ]
  },
  {
   "cell_type": "markdown",
   "metadata": {},
   "source": [
    "# Mean shift"
   ]
  },
  {
   "cell_type": "code",
   "execution_count": 119,
   "metadata": {},
   "outputs": [
    {
     "name": "stdout",
     "output_type": "stream",
     "text": [
      "                    Metric     Score\n",
      "0         Silhouette Score  0.732151\n",
      "1     Davies-Bouldin Score  0.473396\n",
      "2  Min interclust distance  0.099399\n",
      "3  Mean distance to center  1.307765\n",
      "4    Inclust mean distance       NaN\n"
     ]
    }
   ],
   "source": [
    "from sklearn.cluster import MeanShift\n",
    "model= MeanShift()\n",
    "pca = PCA(0.85)\n",
    "reduced_df = pca.fit_transform(train_df3)\n",
    "create_report_for_PCA(model,reduced_df)"
   ]
  },
  {
   "cell_type": "code",
   "execution_count": 120,
   "metadata": {},
   "outputs": [
    {
     "name": "stdout",
     "output_type": "stream",
     "text": [
      "                    Metric     Score\n",
      "0         Silhouette Score  0.482758\n",
      "1     Davies-Bouldin Score  0.687839\n",
      "2  Min interclust distance  0.124029\n",
      "3  Mean distance to center  0.685406\n",
      "4    Inclust mean distance       NaN\n"
     ]
    }
   ],
   "source": [
    "model=MeanShift(max_iter=400)\n",
    "model.fit(train_df1)\n",
    "create_report(model,train_df1)"
   ]
  },
  {
   "cell_type": "markdown",
   "metadata": {},
   "source": [
    "For this df we have a smaller distance to center but worse silhuette"
   ]
  }
 ],
 "metadata": {
  "kernelspec": {
   "display_name": "base",
   "language": "python",
   "name": "python3"
  },
  "language_info": {
   "codemirror_mode": {
    "name": "ipython",
    "version": 3
   },
   "file_extension": ".py",
   "mimetype": "text/x-python",
   "name": "python",
   "nbconvert_exporter": "python",
   "pygments_lexer": "ipython3",
   "version": "3.11.5"
  }
 },
 "nbformat": 4,
 "nbformat_minor": 2
}
